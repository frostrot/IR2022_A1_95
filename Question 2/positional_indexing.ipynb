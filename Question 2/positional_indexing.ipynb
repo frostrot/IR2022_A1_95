{
 "cells": [
  {
   "cell_type": "markdown",
   "metadata": {},
   "source": [
    "## Positional Index\n",
    "\n",
    "To create Unigram Inverted Index, the preprocessed documents will be parsed. The files are arranged alphabetically by title and given a number ID starting at 0. **doc_id.pkl** is a file that stores the Doc IDs to Doc Name mapping. The keywords are sorted in alphabetical order and posting lists are made for them. **index.pkl** is the name of the index that was produced."
   ]
  },
  {
   "cell_type": "code",
   "execution_count": 1,
   "metadata": {},
   "outputs": [],
   "source": [
    "#Importing libraries\n",
    "\n",
    "import pickle as pkl"
   ]
  },
  {
   "cell_type": "markdown",
   "metadata": {},
   "source": [
    "### Loading Data\n"
   ]
  },
  {
   "cell_type": "code",
   "execution_count": 2,
   "metadata": {},
   "outputs": [],
   "source": [
    "### Loading Data\n",
    "\n",
    "with open(\"./pickle_files/data.pkl\",\"rb\") as f:\n",
    "    data = pkl.load(f)"
   ]
  },
  {
   "cell_type": "markdown",
   "metadata": {},
   "source": [
    "### Positional Indexing"
   ]
  },
  {
   "cell_type": "code",
   "execution_count": 3,
   "metadata": {},
   "outputs": [],
   "source": [
    "# Creating Index\n",
    "\n",
    "index = {}\n",
    "for docs in data:\n",
    "    for i,term in enumerate(docs['filtered_content'].split()):\n",
    "        if term in index:\n",
    "            index[term].append((docs['file'],i))\n",
    "        else:\n",
    "            index[term] = [(docs['file'],i)]\n"
   ]
  },
  {
   "cell_type": "code",
   "execution_count": 4,
   "metadata": {},
   "outputs": [],
   "source": [
    "# Dumping in Pickle File\n",
    "\n",
    "pkl.dump(index,open('./pickle_files/index.pkl','wb'))"
   ]
  }
 ],
 "metadata": {
  "interpreter": {
   "hash": "f1cbb85fbb159a91b512923319bfb5d4c6de1269d10ca612a23b6e07a28361c8"
  },
  "kernelspec": {
   "display_name": "Python 3.8.12 ('base')",
   "language": "python",
   "name": "python3"
  },
  "language_info": {
   "codemirror_mode": {
    "name": "ipython",
    "version": 3
   },
   "file_extension": ".py",
   "mimetype": "text/x-python",
   "name": "python",
   "nbconvert_exporter": "python",
   "pygments_lexer": "ipython3",
   "version": "3.8.12"
  },
  "orig_nbformat": 4
 },
 "nbformat": 4,
 "nbformat_minor": 2
}
