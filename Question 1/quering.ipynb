{
 "cells": [
  {
   "cell_type": "markdown",
   "metadata": {},
   "source": [
    "## Query Processing\n",
    "\n",
    "functions are defined to tackle the 4 types of operations: AND, OR, AND NOT, OR NOT.\n",
    "The index and doc IDs are loaded from their pickle files.\n",
    "Queries are processed from left to right.  \n",
    "\n",
    "**Input Format**    \n",
    "\n",
    "The first line contains the number of queries, N. \\\n",
    "The next 2N lines would represent the queries. \\\n",
    "Each query would consist of two lines: \\\n",
    "(a) line 1: Input sentence \\\n",
    "(b) line 2: Input operation sequence\n",
    "\n",
    "**Output Format**  \n",
    "\n",
    "Number of documents matched: Returned value \\\n",
    "No. of comparisons required: Returned value\n"
   ]
  },
  {
   "cell_type": "code",
   "execution_count": 113,
   "metadata": {},
   "outputs": [
    {
     "name": "stderr",
     "output_type": "stream",
     "text": [
      "[nltk_data] Downloading package stopwords to\n",
      "[nltk_data]     /Users/frostrot/nltk_data...\n",
      "[nltk_data]   Package stopwords is already up-to-date!\n"
     ]
    }
   ],
   "source": [
    "#importing neccesary files\n",
    "\n",
    "import nltk\n",
    "import re\n",
    "from pprint import pprint\n",
    "import pickle as pkl\n",
    "import nltk\n",
    "from nltk.tokenize import word_tokenize\n",
    "from nltk.stem import PorterStemmer\n",
    "from ipynb.fs.defs.data_preprocessing import remove_punc, remove_art_connector, remove_emoji\n",
    "from nltk.corpus import stopwords\n",
    "nltk.download('stopwords')\n",
    "import warnings\n",
    "warnings.filterwarnings(\"ignore\")"
   ]
  },
  {
   "cell_type": "markdown",
   "metadata": {},
   "source": [
    "### Loading Data\n"
   ]
  },
  {
   "cell_type": "code",
   "execution_count": 114,
   "metadata": {},
   "outputs": [],
   "source": [
    "# Loading Pickle files\n",
    "\n",
    "with open(\"./pickle_files/index.pkl\",\"rb\") as f:\n",
    "    posting = pkl.load(f)\n",
    "    \n",
    "with open(\"./pickle_files/doc_id.pkl\",\"rb\") as f:\n",
    "    doc_id = pkl.load(f)"
   ]
  },
  {
   "cell_type": "markdown",
   "metadata": {},
   "source": [
    "### Filtering"
   ]
  },
  {
   "cell_type": "code",
   "execution_count": 115,
   "metadata": {},
   "outputs": [],
   "source": [
    "#Remove stopwords, and convert shorted words into there extended forms\n",
    "\n",
    "def stopword(text):\n",
    "  EXTENDED_FORMS = {\"aren't\": 'are not', \"can't\": 'cannot', \"couldn't\": 'could not', \"didn't\": 'did not', \"doesn't\": 'does not', \"don't\": 'do not', \"hadn't\": 'had not', \"hasn't\": 'has not', \"haven't\": 'have not', \"he'd\": 'he would', \"he'll\": 'he will', \"he's\": 'he is', \"i'd\": 'i would', \"i'll\": 'i will', \"i'm\": 'i am', \"isn't\": 'is not', \"it's\": 'it is', \"it'll\": 'it will', \"i've\": 'i have', \"let's\": 'let us', \"mightn't\": 'might not', \"mustn't\": 'must not',\"n't\": 'not', \"shan't\": 'shall not', \"she'd\": 'she would', \"she'll\": 'she will', \"she's\": 'she is', \"shouldn't\": 'should not', \"that's\": 'that is', \"there's\": 'there is', \"they'd\": 'they would', \"they'll\": 'they will', \"they're\": 'they are', \"they've\": 'they have', \"we'd\": 'we would', \"we're\": 'we are', \"weren't\": 'were not', \"we've\": 'we have', \"what'll\": 'what will', \"what're\": 'what are', \"what's\": 'what is', \"what've\": 'what have', \"where's\": 'where is', \"who'd\": 'who would', \"who'll\": 'who will', \"who're\": 'who are', \"who's\": 'who is', \"who've\": 'who have', \"won't\": 'will not', \"wouldn't\": 'would not', \"you'd\": 'you would', \"you'll\": 'you will', \"you're\": 'you are', \"you've\": 'you have', \"'re\": ' are', \"wasn't\": 'was not', \"we'll\": 'we will', \"'cause\": 'because', \"could've\": 'could have', \"how'd\": 'how did', \"how'd'y\": 'how do you', \"how'll\": 'how will', \"how's\": 'how is', \"I'd\": 'I would', \"I'd've\": 'I would have', \"I'll\": 'I will', \"I'll've\": 'I will have', \"I'm\": 'I am', \"I've\": 'I have', \"i'd've\": 'i would have', \"i'll've\": 'i will have', \"it'd\": 'it would', \"it'd've\": 'it would have', \"it'll've\": 'it will have', \"ma'am\": 'madam', \"mayn't\": 'may not', \"might've\": 'might have', \"mightn't've\": 'might not have', \"must've\": 'must have', \"mustn't've\": 'must not have', \"needn't\": 'need not', \"needn't've\": 'need not have', \"o'clock\": 'of the clock', \"oughtn't\": 'ought not', \"oughtn't've\": 'ought not have', \"sha'n't\": 'shall not', \"shan't've\": 'shall not have', \"she'd've\": 'she would have', \"she'll've\": 'she will have', \"should've\": 'should have', \"shouldn't've\": 'should not have', \"so've\": 'so have', \"so's\": 'so as', \"this's\": 'this is', \"that'd\": 'that would', \"that'd've\": 'that would have', \"there'd\": 'there would', \"there'd've\": 'there would have', \"here's\": 'here is', \"they'd've\": 'they would have', \"they'll've\": 'they will have', \"to've\": 'to have', \"we'd've\": 'we would have', \"we'll've\": 'we will have', \"what'll've\": 'what will have', \"when's\": 'when is', \"when've\": 'when have', \"where'd\": 'where did', \"where've\": 'where have', \"who'll've\": 'who will have', \"why's\": 'why is', \"why've\": 'why have', \"will've\": 'will have', \"won't've\": 'will not have', \"would've\": 'would have', \"wouldn't've\": 'would not have', \"y'all\": 'you all', \"y'all'd\": 'you all would', \"y'all'd've\": 'you all would have', \"y'all're\": 'you all are', \"y'all've\": 'you all have', \"you'd've\": 'you would have', \"you'll've\": 'you will have'}\n",
    "  x= word_tokenize(text)\n",
    "  for i in range(len(x)):\n",
    "    if x[i] in EXTENDED_FORMS:\n",
    "      x[i] = EXTENDED_FORMS[x[i]]\n",
    "    if x[i] in stopwords.words('english'):\n",
    "      x[i]=''\n",
    "  x=remove_punc(x)\n",
    "  x=remove_art_connector(x)\n",
    "  return \" \".join(x)"
   ]
  },
  {
   "cell_type": "code",
   "execution_count": 116,
   "metadata": {},
   "outputs": [],
   "source": [
    "def stemming(text):\n",
    "    x = text.split(\" \")\n",
    "    ps = PorterStemmer()\n",
    "    return \" \".join([ps.stem(i) for i in x])"
   ]
  },
  {
   "cell_type": "code",
   "execution_count": 117,
   "metadata": {},
   "outputs": [],
   "source": [
    "#Filter the parsed text, by, converting them into lowercase, removing any tags, extra spaces.\n",
    "\n",
    "def filter(item):\n",
    "  if type(item)==str:\n",
    "    item=item.lower()\n",
    "    item=re.sub('[#@]\\w+\\s*',\"\",item)\n",
    "    item=re.sub(r'\\\\N','',item)\n",
    "    item=remove_emoji(item)\n",
    "    item=stopword(item)\n",
    "    item=stemming(item)\n",
    "  return item"
   ]
  },
  {
   "cell_type": "markdown",
   "metadata": {},
   "source": [
    "### Operator Functions"
   ]
  },
  {
   "cell_type": "code",
   "execution_count": 118,
   "metadata": {},
   "outputs": [],
   "source": [
    "#Merging Code, for two documents (basically merging two sorted list)\n",
    "# OR function\n",
    "\n",
    "def func_OR(document_word1, document_word2):    \n",
    "    n,m = len(document_word1), len(document_word2)\n",
    "    i,j = 0,0\n",
    "    comparision = 0\n",
    "    merged_documents = []\n",
    "\n",
    "    while i<n and j<m:\n",
    "        comparision+=1\n",
    "        if document_word1[i] < document_word2[j]:\n",
    "            merged_documents.append(document_word1[i])\n",
    "            i+=1\n",
    "        elif document_word1[i]> document_word2[j]:\n",
    "            merged_documents.append(document_word2[j])\n",
    "            j+=1\n",
    "        else:\n",
    "            merged_documents.append(document_word1[i])\n",
    "            i+=1\n",
    "            j+=1\n",
    "    \n",
    "    while i<n:\n",
    "        merged_documents.append(document_word1[i])\n",
    "        i+=1\n",
    "    \n",
    "    while j<m:\n",
    "        merged_documents.append(document_word2[j])\n",
    "        j+=1\n",
    "\n",
    "    return merged_documents, comparision"
   ]
  },
  {
   "cell_type": "code",
   "execution_count": 119,
   "metadata": {},
   "outputs": [],
   "source": [
    "#And functions, comparing and merging if the words are present in both the documents or not. (check if a number present in a sorted list)\n",
    "\n",
    "def func_AND(document_word1, document_word2):\n",
    "    n,m = len(document_word1), len(document_word2)\n",
    "    i,j = 0,0\n",
    "    comparision = 0\n",
    "    merged_documents = []\n",
    "\n",
    "    while i<n and j<m:\n",
    "        comparision+=1\n",
    "        if document_word1[i] == document_word2[j]:\n",
    "            merged_documents.append(document_word1[i])\n",
    "            i+=1\n",
    "            j+=1\n",
    "        elif document_word1[i] < document_word2[j]:\n",
    "            i+=1\n",
    "        else:\n",
    "            j+=1\n",
    "\n",
    "    return merged_documents, comparision"
   ]
  },
  {
   "cell_type": "code",
   "execution_count": 120,
   "metadata": {},
   "outputs": [],
   "source": [
    "#Function to calculation ornot, first all documents with no, word2, present in it, and then performs the or functions.\n",
    "\n",
    "def func_ORNOT(document_word1, document_word2):\n",
    "    \n",
    "    i,j = 0,document_word2[0]\n",
    "    n,m = len(document_word1), len(document_word2)\n",
    "    comparisions = 0\n",
    "\n",
    "    negated_document_word2 = [x for x in range(j)]\n",
    "\n",
    "    while j < document_word2[-1]:\n",
    "        if i<m and document_word2[i]==j:\n",
    "            comparisions += 1\n",
    "            i+=1\n",
    "        else:\n",
    "            negated_document_word2.append(j)\n",
    "        j+=1 \n",
    "\n",
    "    negated_document_word2.extend([x for x in range(document_word2[-1]+1,len(doc_id))])\n",
    "    \n",
    "    merged_documents,comparision = func_OR(document_word1,negated_document_word2)\n",
    "\n",
    "    return merged_documents, comparision+comparisions"
   ]
  },
  {
   "cell_type": "code",
   "execution_count": 121,
   "metadata": {},
   "outputs": [],
   "source": [
    "#Function to calculate and not, where a word should be in document1 but not in document 2.\n",
    "\n",
    "def func_ANDNOT(document_word1, document_word2):\n",
    "    \n",
    "    n,m = len(document_word1), len(document_word2)\n",
    "    i,j = 0,0\n",
    "    comparision = 0\n",
    "    merged_documents = []\n",
    "\n",
    "    while i<n and j<m:\n",
    "        comparision+=1\n",
    "        if document_word1[i]<document_word2[j]:\n",
    "            merged_documents.append(document_word1[i])\n",
    "            i+=1\n",
    "        elif document_word1[i]== document_word2[j]:\n",
    "            i+=1\n",
    "            j+=1\n",
    "        else:\n",
    "            j+=1\n",
    "            \n",
    "    while i < n:\n",
    "        merged_documents.append(document_word1[i])\n",
    "        i+=1\n",
    "\n",
    "    return merged_documents, comparision"
   ]
  },
  {
   "cell_type": "markdown",
   "metadata": {},
   "source": [
    "### Processing"
   ]
  },
  {
   "cell_type": "code",
   "execution_count": 122,
   "metadata": {},
   "outputs": [],
   "source": [
    "#processing the queries.\n",
    "\n",
    "def processing(words, operations):\n",
    "    if len(words)==0 or len(operators)==0:\n",
    "        if len(words)!=0 and words[0] in posting:\n",
    "            return posting[words[0]], 0\n",
    "        else:\n",
    "            return [], 0\n",
    "\n",
    "    words_doc_mapping = []\n",
    "\n",
    "    for word in words:\n",
    "        if word in posting:\n",
    "            words_doc_mapping.append(posting[word])\n",
    "        else:\n",
    "            words_doc_mapping.append([])\n",
    "    \n",
    "    documents = words_doc_mapping[0]\n",
    "    total_comparison = 0\n",
    "\n",
    "    for i,operation in enumerate(operations):\n",
    "        documents, comparisons = operation(documents,words_doc_mapping[i+1])\n",
    "        total_comparison+=comparisons\n",
    "\n",
    "    return documents, total_comparison"
   ]
  },
  {
   "cell_type": "markdown",
   "metadata": {},
   "source": [
    "### Quering Inputs"
   ]
  },
  {
   "cell_type": "code",
   "execution_count": 124,
   "metadata": {},
   "outputs": [
    {
     "name": "stdout",
     "output_type": "stream",
     "text": [
      "Sentence Words to be processed after filtering:  ['telephon', 'pave', 'road']\n",
      "Operations to be done on the Sentence:  ['or not', 'and not']\n",
      "Number of documents retrieved:  1004\n",
      "Number of comparisons made:  2245\n",
      "Document Names:\n",
      " ['1st_aid.txt', 'a_fish_c.apo', 'a_tv_t-p.com', 'abbott.txt', 'acetab1.txt', 'acne1.txt', 'acronym.txt', 'adameve.hum', 'adcopy.hum', 'addrmeri.txt', 'admin.txt', 'adrian_e.faq', 'ads.txt', 'adt_miam.txt', 'advrtize.txt', 'aeonint.txt', 'age.txt', 'aggie.txt', 'airlines', 'alabama.txt', 'alcatax.txt', 'alcohol.hum', 'alflog.txt', 'all_grai', 'allusion', 'ambrose.bie', 'amchap2.txt', 'analogy.hum', 'aniherb.txt', 'anim_lif.txt', 'anime.lif', 'annoy.fascist', 'anorexia.txt', 'answers', 'anthropo.stu', 'antibiot.txt', 'antimead.bev', 'aphrodis.txt', 'appbred.brd', 'appetiz.rcp', 'applepie.des', 'apsaucke.des', 'apsnet.txt', 'arab.dic', 'arcadian.txt', 'argotdic.txt', 'arnold.txt', 'art-fart.hum', 'arthriti.txt', 'atherosc.txt', 'atombomb.hum', 'att.txt', 'aussie.lng', 'avengers.lis', 'awespinh.sal', 'ayurved.txt', 'b-2.jok', 'b12.txt', 'back1.txt', 'bad', 'bad-d', 'bad.jok', 'badday.hum', 'bagelope.txt', 'bakebred.txt', 'baklava.des', 'banana01.brd', 'banana02.brd', 'banana03.brd', 'banana04.brd', 'banana05.brd', 'bank.rob', 'barney.cn1', 'basehead.txt', 'batrbred.txt', 'bb', 'bbc_vide.cat', 'bbq.txt', 'beapimp.hum', 'beave.hum', 'beer-g', 'beer-gui', 'beer.gam', 'beer.hum', 'beer.txt', 'beerdiag.txt', 'beergame.hum', 'beergame.txt', 'beerjesus.hum', 'beershrm.fis', 'beershrp.fis', 'beerwarn.txt', 'beesherb.txt', 'beginn.ers', 'berryeto.bev', 'bhang.fun', 'bhb.ill', 'bible.txt', 'bigpic1.hum', 'billcat.hum', 'bimg.prn', 'bingbong.hum', 'bitchcar.hum', 'blackapp.hum', 'blackhol.hum', 'blake7.lis', 'blaster.hum', 'bless.bc', 'blkbean.txt', 'blkbnsrc.vgn', 'blood.txt', 'blooprs1.asc', 'bmdn01.txt', 'bnb_quot.txt', 'boarchil.txt', 'boatmemo.jok', 'boe.hum', 'bond-2.txt', 'boneles2.txt', 'booknuti.txt', 'booze.fun', 'booze1.fun', 'booze2.fun', 'bored.txt', 'boston.geog', 'bozo_tv.leg', 'brainect.hum', 'brdpudd.des', 'bread.rec', 'bread.txt', 'breadpud.des', 'bredcake.des', 'browneco.hum', 'brownie.rec', 'brush1.txt', 'btaco.txt', 'btcisfre.hum', 'btscke01.des', 'btscke02.des', 'btscke03.des', 'btscke04.des', 'btscke05.des', 'buffwing.pol', 'bugbreak.hum', 'bugs.txt', 'buldrwho.txt', 'bunacald.fis', 'burrito.mea', 'butcher.txt', 'butstcod.fis', 'butwrong.hum', 'buzzword.hum', 'bw-phwan.hat', 'bw-summe.hat', 'bw.txt', 'byfb.txt', 'c0dez.txt', 'cabbage.txt', 'caesardr.sal', 'cake.rec', 'calamus.hrb', 'calculus.txt', 'calif.hum', 'calvin.txt', 'cancer.rat', 'candybar.fun', 'capital.txt', 'caramels.des', 'carowner.txt', 'cartoon.law', 'cartoon.laws', 'cartoon_.txt', 'cartoon_laws.txt', 'cartwb.son', 'cast.lis', 'catballs.hum', 'catin.hat', 'catranch.hum', 'catstory.txt', 'cbmatic.hum', 'cereal.txt', 'cform2.txt', 'cgs_lst.txt', 'chainltr.txt', 'change.hum', 'charity.hum', 'cheapfar.hum', 'cheapin.la', 'chickenheadbbs.txt', 'chickens.jok', 'chickens.txt', 'childhoo.jok', 'childrenbooks.txt', 'chili.txt', 'chinese.txt', 'chinesec.hum', 'choco-ch.ips', 'christop.int', 'chung.iv', 'chunnel.txt', 'church.sto', 'clancy.txt', 'classicm.hum', 'climbing.let', 'cmu.share', 'co-car.jok', 'cockney.alp', 'coffee.faq', 'coffee.txt', 'coffeebeerwomen.txt', 'cogdis.txt', 'coke.fun', 'coke.txt', 'coke1', 'coke_fan.naz', 'cokeform.txt', 'coladrik.fun', 'coladrik.txt', 'cold.fus', 'coldfake.hum', 'college.hum', 'college.sla', 'college.txt', 'computer.txt', 'comrevi1.hum', 'conan.txt', 'confucius_say.txt', 'contract.moo', 'cookberk', 'cookbkly.how', 'cooking.fun', 'cooking.jok', 'coollngo2.txt', 'cooplaws', 'cops.txt', 'corporat.txt', 'court.quips', 'cowexplo.hum', 'coyote.txt', 'crazy.txt', 'critic.txt', 'crzycred.lst', 'cucumber.jok', 'cucumber.txt', 'cuisine.txt', 'curiousgeorgie.txt', 'curry.hrb', 'curry.txt', 'curse.txt', 'cybrtrsh.txt', 'd-ned.hum', 'dalive', 'damiana.hrb', 'dandwine.bev', 'dark.suc', 'dead-r', 'dead4.txt', 'deadlysins.txt', 'deathhem.txt', 'deep.txt', 'defectiv.hum', 'desk.txt', 'deterior.hum', 'devils.jok', 'diesmurf.txt', 'diet.txt', 'dieter.txt', 'dingding.hum', 'dining.out', 'disaster.hum', 'disclmr.txt', 'disclym.txt', 'doc-says.txt', 'docdict.txt', 'docspeak.txt', 'doggun.sto', 'donut.txt', 'dover.poem', 'draxamus.txt', 'drinker.txt', 'drinking.tro', 'drinkrul.jok', 'drinks.txt', 'dromes.txt', 'druggame.hum', 'drugshum.hum', 'drunk.txt', 'dthought.txt', 'dym', 'eandb.drx', 'earp', 'eatme.txt', 'econridl.fun', 'egg-bred.txt', 'egglentl.vgn', 'eggroll1.mea', 'electric.txt', 'element.jok', 'elephant.fun', 'elevator.fun', 'empeval.txt', 'engineer.hum', 'english', 'english.txt', 'engmuffn.txt', 'engrhyme.txt', 'enlightenment.txt', 'epi_merm.txt', 'epi_rns.txt', 'epi_tton.txt', 'epikarat.txt', 'epiquest.txt', 'episimp2.txt', 'epitaph', 'eskimo.nel', 'exam.50', 'excuse30.txt', 'exidy.txt', 'exylic.txt', 'f_tang.txt', 'facedeth.txt', 'failure.txt', 'fajitas.rcp', 'farsi.phrase', 'farsi.txt', 'fartinfo.txt', 'fartting.txt', 'fascist.txt', 'fbipizza.txt', 'fearcola.hum', 'fed.txt', 'fegg!int.txt', 'feggmagi.txt', 'feista01.dip', 'female.jok', 'fiber.txt', 'figure_1.txt', 'final-ex.txt', 'finalexm.hum', 'firecamp.txt', 'fireplacein.txt', 'firstaid.inf', 'firstaid.txt', 'fish.rec', 'flattax.hum', 'flowchrt', 'flowchrt.txt', 'flux_fix.txt', 'focaccia.brd', 'food', 'foodtips', 'footfun.hum', 'forsooth.hum', 'free-cof.fee', 'freshman.hum', 'freudonseuss.txt', 'frogeye1.sal', 'fuck!.txt', 'fuckyou2.txt', 'fudge.txt', 'fusion.gal', 'fusion.sup', 'fwksfun.hum', 'gack!.txt', 'gaiahuma', 'gameshow.txt', 'ganamembers.txt', 'garlpast.vgn', 'gas.txt', 'gd_drwho.txt', 'gd_flybd.txt', 'gd_frasr.txt', 'gd_gal.txt', 'gd_guide.txt', 'gd_hhead.txt', 'gd_liqtv.txt', 'gd_maxhd.txt', 'gd_ol.txt', 'gd_sgrnd.txt', 'german.aut', 'get.drunk.cheap', 'ghostfun.hum', 'ghostsch.hum', 'gingbeer.txt', 'girlspeak.txt', 'godmonth.txt', 'goforth.hum', 'gohome.hum', 'goldwatr.txt', 'golnar.txt', 'good.txt', 'gotukola.hrb', 'gown.txt', 'grail.txt', 'grammar.jok', 'greenchi.txt', 'grommet.hum', 'grospoem.txt', 'growth.txt', 'gumbo.txt', 'hack', 'hack7.txt', 'hackingcracking.txt', 'hacktest.txt', 'hamburge.nam', 'hangover.txt', 'happyhack.txt', 'harmful.hum', 'hate.hum', 'hbo_spec.rev', 'headlnrs', 'hecomes.jok', 'hedgehog.txt', 'height.txt', 'hell.jok', 'hell.txt', 'herb!.hum', 'hermsys.txt', 'heroic.txt', 'hi.tec', 'hierarch.txt', 'hilbilly.wri', 'history2.oop', 'hitchcoc.app', 'hitchcok.txt', 'hitler.59', 'hitler.txt', 'hitlerap.txt', 'homermmm.txt', 'hop.faq', 'horflick.txt', 'horoscop.jok', 'horoscop.txt', 'horoscope.txt', 'hotel.txt', 'hotnnot.hum', 'hotpeper.txt', 'how.bugs.breakd', 'how2bgod.txt', 'how2dotv.txt', 'how_to_i.pro', 'howlong.hum', 'htswfren.txt', 'hum2', 'humatra.txt', 'humatran.jok', 'humpty.dumpty', 'iced.tea', 'icm.hum', 'idaho.txt', 'idr2.txt', 'imbecile.txt', 'imprrisk.hum', 'impurmat.hum', 'incarhel.hum', 'indgrdn.txt', 'initials.rid', 'inlaws1.txt', 'inquirer.txt', 'ins1', 'insanity.hum', 'insect1.txt', 'insult', 'insuranc.sty', 'insure.hum', 'interv.hum', 'investi.hum', 'iqtest', 'iremember', 'italoink.txt', 'ivan.hum', 'jac&tuu.hum', 'jalapast.dip', 'jambalay.pol', 'japice.bev', 'japrap.hum', 'jargon.phd', 'jawgumbo.fis', 'jawsalad.fis', 'jayjay.txt', 'jc-elvis.inf', 'jeffie.heh', 'jerky.rcp', 'jimhood.txt', 'johann', 'jokeju07.txt', 'jokes.txt', 'jokes1.txt', 'jon.txt', 'jrrt.riddle', 'jungjuic.bev', 'just2', 'justify', 'kaboom.hum', 'kanalx.txt', 'kashrut.txt', 'kid2', 'kid_diet.txt', 'killer.hum', 'kilroy', 'kilsmur.hum', 'kloo.txt', 'koans.txt', 'la_times.hun', 'labels.txt', 'lampoon.jok', 'languag.jok', 'lansing.txt', 'law.sch', 'lawhunt.txt', 'laws.txt', 'lawskool.txt', 'lawsuniv.hum', 'lawyers.txt', 'lazarus.txt', 'leech.txt', 'legal.hum', 'let.go', 'letgosh.txt', 'letter_f.sch', 'letterbx.txt', 'libraway.txt', 'liceprof.sty', 'lif&love.hum', 'lifeimag.hum', 'lifeinfo.hum', 'lifeonledge.txt', 'limerick.jok', 'lines.jok', 'lion.jok', 'lion.txt', 'lions.cat', 'lipkovits.txt', 'livnware.hum', 'llamas.txt', 'lll.hum', 'llong.hum', 'lobquad.hum', 'looser.hum', 'losers84.hum', 'losers86.hum', 'lost.txt', 'lozers', 'lozeuser.hum', 'lp-assoc.txt', 'lucky.cha', 'ludeinfo.hum', 'ludeinfo.txt', 'luggage.hum', 'luvstory.txt', 'luzerzo2.hum', 'm0dzmen.hum', 'macsfarm.old', 'madhattr.jok', 'madscrib.hum', 'maecenas.hum', 'mailfrag.hum', 'makebeer.hum', 'making_y.wel', 'malechem.txt', 'manager.txt', 'manilla.hum', 'manspace.hum', 'margos.txt', 'marines.hum', 'marriage.hum', 'mash.hum', 'math.1', 'math.2', 'math.far', 'maxheadr', 'mcd.txt', 'mead.rcp', 'meinkamp.hum', 'mel.txt', 'memo.hum', 'memory.hum', 'men&wome.txt', 'mensroom.jok', 'merry.txt', 'miamadvi.hum', 'miami.hum', 'miamimth.txt', 'middle.age', 'minn.txt', 'miranda.hum', 'misery.hum', 'missheav.hum', 'mitch.txt', 'modest.hum', 'modstup', 'mog-history', 'montoys.txt', 'moonshin', 'moore.txt', 'moslem.txt', 'mothers.txt', 'motrbike.jok', 'mov_rail.txt', 'mowers.txt', 'mr.rogers', 'mrscienc.hum', 'mrsfield', 'msfields.txt', 'msorrow', 'mtm.hum', 'mtv.asc', 'murph.jok', 'murphy.txt', 'murphy_l.txt', 'murphys.txt', 'mutate.hum', 'mydaywss.hum', 'myheart.hum', 'naivewiz.hum', 'namaste.txt', 'nameisreo.txt', 'namm', 'nasaglenn.txt', 'necropls.txt', 'netmask.txt', 'netnews.10', 'newcoke.txt', 'newconst.hum', 'newmex.hum', 'news.hum', 'nigel.10', 'nigel.2', 'nigel.4', 'nigel.7', 'nigel10.txt', 'nintendo.jok', 'normal.boy', 'normalboy.txt', 'normquot.txt', 'novel.hum', 'nuke.hum', 'nukewar.jok', 'nukewar.txt', 'nukwaste', 'number', 'number.killer', 'number_k.ill', 'nurds.hum', 'nysucks.hum', 'nzdrinks.txt', 'o-ttalk.hum', 'oakwood.txt', 'oam-001.txt', 'oam.nfo', 'oasis', 'oatbran.rec', 'oculis.rcp', 'odd_to.obs', 'odearakk.hum', 'office.txt', 'ohandre.hum', 'old.txt', 'oldeng.hum', 'oldtime.sng', 'oldtime.txt', 'oliver.txt', 'oliver02.txt', 'onan.txt', 'one.par', 'onetotwo.hum', 'ookpik.hum', 'opinion.hum', 'oranchic.pol', 'orgfrost.bev', 'ourfathr.txt', 'outawork.erl', 'outlimit.txt', 'oxymoron.jok', 'oxymoron.txt', 'p-law.hum', 'packard.txt', 'paddingurpapers.txt', 'parabl.hum', 'parades.hum', 'parsnip.txt', 'passage.hum', 'passenge.sim', 'pasta001.sal', 'pat.txt', 'pbcookie.des', 'peanuts.txt', 'peatchp.hum', 'pecker.txt', 'penisprt.txt', 'penndtch', 'pepper.txt', 'pepsideg.txt', 'petshop', 'phony.hum', 'phorse.hum', 'phunatdi.ana', 'phxbbs-m.txt', 'pickup.lin', 'pickup.txt', 'pipespec.txt', 'pizzawho.hum', 'planeget.hum', 'planetzero.txt', 'poets.hum', 'pol-corr.txt', 'polemom.txt', 'poli.tics', 'poli_t.ics', 'policpig.hum', 'poll2res.hum', 'polly.txt', 'polly_.new', 'poopie.txt', 'popconc.hum', 'popmach', 'popmusi.hum', 'post.nuc', 'pot.txt', 'potty.txt', 'pournell.spo', 'ppbeer.txt', 'pracjoke.txt', 'prawblim.hum', 'prayer.hum', 'primes.jok', 'princess.brd', 'problem.txt', 'proof.met', 'prooftec.txt', 'proposal.jok', 'proudlyserve.txt', 'prover.wisom', 'prover_w.iso', 'psalm.reagan', 'psalm23.txt', 'psalm_nixon', 'psalm_re.aga', 'psilaine.hum', 'psych_pr.quo', 'psycho.txt', 'pukeprom.jok', 'pun.txt', 'pure.mat', 'puzzle.spo', 'puzzles.jok', 'python_s.ong', 'q.pun', 'qttofu.vgn', 'quantity.001', 'quantum.jok', 'quantum.phy', 'quest.hum', 'quick.jok', 'quotes.bug', 'quotes.jok', 'rabbit.txt', 'racist.net', 'radexposed.txt', 'radiolaf.hum', 'rapmastr.hum', 'ratings.hum', 'ratspit.hum', 'raven.hum', 'reagan.hum', 'realest.txt', 'reasons.txt', 'rec.por', 'recepies.fun', 'recip1.txt', 'recipe.001', 'recipe.002', 'recipe.003', 'recipe.004', 'recipe.005', 'recipe.006', 'recipe.007', 'recipe.008', 'recipe.009', 'recipe.010', 'recipe.011', 'recipe.012', 'reconcil.hum', 'record_.gap', 'red-neck.jks', 'reddwarf.sng', 'reddye.hum', 'relative.ada', 'religion.txt', 'renored.txt', 'renorthr.txt', 'rent-a_cat', 'rentals.hum', 'repair.hum', 'report.hum', 'research.hum', 'residncy.jok', 'resolutn.txt', 'resrch_p.hra', 'resrch_phrase', 'revolt.dj', 'richbred.txt', 'rinaldo.jok', 'rinaldos.law', 'rinaldos.txt', 'ripoffpc.hum', 'rns_bcl.txt', 'rns_bwl.txt', 'rns_ency.txt', 'roach.asc', 'robot.tes', 'rocking.hum', 'rockmus.hum', 'sanshop.txt', 'saveface.hum', 'sawyer.txt', 'seafood.txt', 'seeds42.txt', 'sf-zine.pub', 'sfmovie.txt', 'shameonu.hum', 'shooters.txt', 'shorties.jok', 'shrink.news', 'shuimai.txt', 'shuttleb.hum', 'signatur.jok', 'silverclaws.txt', 'simp.txt', 'sinksub.txt', 'skincat', 'skippy.hum', 'skippy.txt', 'slogans.txt', 'smartass.txt', 'smiley.txt', 'smokers.txt', 'smurf-03.txt', 'smurf_co.txt', 'smurfs.cc', 'snapple.rum', 'snipe.txt', 'soccer.txt', 'socecon.hum', 'social.hum', 'socks.drx', 'solders.hum', 'soleleer.hum', 'solviets.hum', 'soporifi.abs', 'sorority.gir', 'spacever.hum', 'spelin_r.ifo', 'speling.msk', 'spider.hum', 'spoonlis.txt', 'spydust.hum', 'squids.gph', 'st_silic.txt', 'staff.txt', 'stagline.txt', 'standard.hum', 'startrek.txt', 'stereo.txt', 'steroid.txt', 'stone.hum', 'strattma.txt', 'stressman.txt', 'studentb.txt', 'suicide2.txt', 'sungenu.hum', 'supermar.rul', 'sw_err.txt', 'swearfrn.hum', 'symbol.hum', 'sysadmin.txt', 'sysman.txt', 't-10.hum', 't-shirt.hum', 't_zone.jok', 'takenote.jok', 'talebeat.hum', 'talkbizr.txt', 'taping.hum', 'teens.txt', 'teevee.hum', 'telecom.q', 'televisi.hum', 'televisi.txt', 'temphell.jok', 'terbear.txt', 'termpoem.txt', 'terms.hum', \"terrmcd'.hum\", 'terrnieg.hum', 'test.hum', 'test.jok', 'test2.jok', 'testchri.txt', 'texbeef.txt', 'texican.dic', 'texican.lex', 'textgrap.hum', 'the_ant.txt', 'thecube.hum', 'thermite.ana', 'thesis.beh', 'thievco.txt', 'three.txt', 'tickmoon.hum', 'timetr.hum', 'tnd.1', 'top10.elf', 'top10.txt', 'top10st1.txt', 'top10st2.txt', 'topten.hum', 'toxcwast.hum', 'tpquote2.txt', 'tpquotes.txt', 'transp.txt', 'trekfume.txt', 'trekwes.hum', 'tribble.hum', 'trukdeth.txt', 'truthlsd.hum', 'truths.hum', 'tshirts.jok', 'tuflife.txt', 'tuna.lab', 'turbo.hum', 'turing.shr', 'turkey.fun', 'twilight.txt', 'twinkie.txt', 'twinkies.jok', 'twinpeak.txt', 'un.happy', 'units.mea', 'univ.odd', 'unochili.txt', 'vaguemag.90s', 'valujet.txt', 'variety2.asc', 'variety3.asc', 'various.txt', 'vegan.rcp', 'vegkill.txt', 'venganza.txt', 'venison.txt', 'voltron.hum', 'vonthomp', 'wacky.ani', 'wagit.txt', 'wagon.hum', 'waitress.txt', 'washroom.txt', 'watchlip.hum', 'wedding.hum', 'weight.txt', 'weights.hum', 'welfare', 'welfare.txt', 'wetdream.hum', 'whatbbs', 'whatthe.hum', 'whitbred.txt', 'who.txt', 'whoon1st.hum', 'whoops.hum', 'why-me.hum', 'widows', 'wimptest.txt', 'wisdom', 'wkrp.epi', 'women.jok', 'wonton.txt', 'wood', 'woodbine.txt', 'woodbugs.txt', 'woods.txt', 'woodsmok.txt', 'woolly_m.amm', 'word.hum', 'worldend.hum', 'wrdnws1.txt', 'wrdnws2.txt', 'wrdnws4.txt', 'wrdnws5.txt', 'wrdnws8.txt', 'wrdnws9.txt', 'x-drinks.txt', 'xtermin8.hum', 'y.txt', 'yjohncse.hum', 'yogisays.txt', 'yogurt.asc', 'yuban.txt', 'yuppies.hum', 'zen.txt', 'zgtoilet.txt', 'zodiac.hum', 'zucantom.sal', 'zuccmush.sal']\n",
      "\n"
     ]
    }
   ],
   "source": [
    "# Queries Input\n",
    "\n",
    "maps = {'OR': func_OR,'AND': func_AND,'OR NOT': func_ORNOT,'AND NOT': func_ANDNOT}\n",
    "\n",
    "N = int(input(\"Enter number of queries: \"))\n",
    "\n",
    "for n in range(N):\n",
    "    sentence = input(\"Enter sentence: \").strip()\n",
    "    sentence_words = filter(sentence).split()\n",
    "    print(\"Sentence Words to be processed after filtering: \",sentence_words)\n",
    "    operators = list(map(str,input(\"Enter operators; comma seperated: \").split(',')))\n",
    "    operation = []\n",
    "\n",
    "    for operator in operators:\n",
    "        if operator.upper() in maps:\n",
    "            operation.append(maps[operator.upper()])\n",
    "\n",
    "    print(\"Operations to be done on the Sentence: \",operators)\n",
    "\n",
    "    if len(sentence_words)-len(operators) == 1:    \n",
    "        documents, total_comparisons = processing(sentence_words, operation)\n",
    "        print(\"Number of documents retrieved: \", len(documents))\n",
    "        print(\"Number of comparisons made: \", total_comparisons)\n",
    "        print(\"Document Names:\\n\",[doc_id[i] for i in documents])\n",
    "        print()\n",
    "    else:\n",
    "        print(\"Error\")"
   ]
  },
  {
   "cell_type": "code",
   "execution_count": null,
   "metadata": {},
   "outputs": [
    {
     "name": "stdout",
     "output_type": "stream",
     "text": [
      "26\n",
      "821\n",
      "59\n"
     ]
    }
   ],
   "source": [
    "# result = set()\n",
    "# result2 = set()\n",
    "# for doc in posting['lion']:\n",
    "#     if doc not in posting['stood']:\n",
    "#         result.add(doc)\n",
    "# print(len(result))\n",
    "# for i in range(len(doc_id)):\n",
    "#     if i not in posting['thought']:\n",
    "#         result.add(i)\n",
    "# print(len(result))\n",
    "# for res in result:\n",
    "#     if res in posting['moment']:\n",
    "#         result2.add(res)\n",
    "# print(len(result2))"
   ]
  }
 ],
 "metadata": {
  "interpreter": {
   "hash": "f1cbb85fbb159a91b512923319bfb5d4c6de1269d10ca612a23b6e07a28361c8"
  },
  "kernelspec": {
   "display_name": "Python 3.8.12 ('base')",
   "language": "python",
   "name": "python3"
  },
  "language_info": {
   "codemirror_mode": {
    "name": "ipython",
    "version": 3
   },
   "file_extension": ".py",
   "mimetype": "text/x-python",
   "name": "python",
   "nbconvert_exporter": "python",
   "pygments_lexer": "ipython3",
   "version": "3.8.12"
  },
  "orig_nbformat": 4
 },
 "nbformat": 4,
 "nbformat_minor": 2
}
