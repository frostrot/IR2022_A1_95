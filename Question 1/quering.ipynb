{
 "cells": [
  {
   "cell_type": "markdown",
   "metadata": {},
   "source": [
    "## Query Processing\n",
    "\n",
    "functions are defined to tackle the 4 types of operations: AND, OR, AND NOT, OR NOT.\n",
    "The index and doc IDs are loaded from their pickle files.\n",
    "Queries are processed from left to right.  \n",
    "\n",
    "**Input Format**    \n",
    "\n",
    "The first line contains the number of queries, N. \\\n",
    "The next 2N lines would represent the queries. \\\n",
    "Each query would consist of two lines: \\\n",
    "(a) line 1: Input sentence \\\n",
    "(b) line 2: Input operation sequence\n",
    "\n",
    "**Output Format**  \n",
    "\n",
    "Number of documents matched: Returned value \\\n",
    "No. of comparisons required: Returned value\n"
   ]
  },
  {
   "cell_type": "code",
   "execution_count": 74,
   "metadata": {},
   "outputs": [
    {
     "name": "stderr",
     "output_type": "stream",
     "text": [
      "[nltk_data] Downloading package stopwords to\n",
      "[nltk_data]     /Users/frostrot/nltk_data...\n",
      "[nltk_data]   Package stopwords is already up-to-date!\n"
     ]
    }
   ],
   "source": [
    "#importing neccesary files\n",
    "\n",
    "import nltk\n",
    "import re\n",
    "from pprint import pprint\n",
    "import pickle as pkl\n",
    "import nltk\n",
    "from nltk.tokenize import word_tokenize\n",
    "from nltk.stem import PorterStemmer\n",
    "from ipynb.fs.defs.data_preprocessing import remove_punc, remove_art_connector, remove_emoji\n",
    "from nltk.corpus import stopwords\n",
    "nltk.download('stopwords')\n",
    "import warnings\n",
    "warnings.filterwarnings(\"ignore\")"
   ]
  },
  {
   "cell_type": "markdown",
   "metadata": {},
   "source": [
    "### Loading Data\n"
   ]
  },
  {
   "cell_type": "code",
   "execution_count": 75,
   "metadata": {},
   "outputs": [],
   "source": [
    "# Loading Pickle files\n",
    "\n",
    "with open(\"./pickle_files/index.pkl\",\"rb\") as f:\n",
    "    posting = pkl.load(f)\n",
    "    \n",
    "with open(\"./pickle_files/doc_id.pkl\",\"rb\") as f:\n",
    "    doc_id = pkl.load(f)"
   ]
  },
  {
   "cell_type": "markdown",
   "metadata": {},
   "source": [
    "### Filtering"
   ]
  },
  {
   "cell_type": "code",
   "execution_count": 76,
   "metadata": {},
   "outputs": [],
   "source": [
    "#Remove stopwords, and convert shorted words into there extended forms\n",
    "\n",
    "def stopword(text):\n",
    "  EXTENDED_FORMS = {\"aren't\": 'are not', \"can't\": 'cannot', \"couldn't\": 'could not', \"didn't\": 'did not', \"doesn't\": 'does not', \"don't\": 'do not', \"hadn't\": 'had not', \"hasn't\": 'has not', \"haven't\": 'have not', \"he'd\": 'he would', \"he'll\": 'he will', \"he's\": 'he is', \"i'd\": 'i would', \"i'll\": 'i will', \"i'm\": 'i am', \"isn't\": 'is not', \"it's\": 'it is', \"it'll\": 'it will', \"i've\": 'i have', \"let's\": 'let us', \"mightn't\": 'might not', \"mustn't\": 'must not',\"n't\": 'not', \"shan't\": 'shall not', \"she'd\": 'she would', \"she'll\": 'she will', \"she's\": 'she is', \"shouldn't\": 'should not', \"that's\": 'that is', \"there's\": 'there is', \"they'd\": 'they would', \"they'll\": 'they will', \"they're\": 'they are', \"they've\": 'they have', \"we'd\": 'we would', \"we're\": 'we are', \"weren't\": 'were not', \"we've\": 'we have', \"what'll\": 'what will', \"what're\": 'what are', \"what's\": 'what is', \"what've\": 'what have', \"where's\": 'where is', \"who'd\": 'who would', \"who'll\": 'who will', \"who're\": 'who are', \"who's\": 'who is', \"who've\": 'who have', \"won't\": 'will not', \"wouldn't\": 'would not', \"you'd\": 'you would', \"you'll\": 'you will', \"you're\": 'you are', \"you've\": 'you have', \"'re\": ' are', \"wasn't\": 'was not', \"we'll\": 'we will', \"'cause\": 'because', \"could've\": 'could have', \"how'd\": 'how did', \"how'd'y\": 'how do you', \"how'll\": 'how will', \"how's\": 'how is', \"I'd\": 'I would', \"I'd've\": 'I would have', \"I'll\": 'I will', \"I'll've\": 'I will have', \"I'm\": 'I am', \"I've\": 'I have', \"i'd've\": 'i would have', \"i'll've\": 'i will have', \"it'd\": 'it would', \"it'd've\": 'it would have', \"it'll've\": 'it will have', \"ma'am\": 'madam', \"mayn't\": 'may not', \"might've\": 'might have', \"mightn't've\": 'might not have', \"must've\": 'must have', \"mustn't've\": 'must not have', \"needn't\": 'need not', \"needn't've\": 'need not have', \"o'clock\": 'of the clock', \"oughtn't\": 'ought not', \"oughtn't've\": 'ought not have', \"sha'n't\": 'shall not', \"shan't've\": 'shall not have', \"she'd've\": 'she would have', \"she'll've\": 'she will have', \"should've\": 'should have', \"shouldn't've\": 'should not have', \"so've\": 'so have', \"so's\": 'so as', \"this's\": 'this is', \"that'd\": 'that would', \"that'd've\": 'that would have', \"there'd\": 'there would', \"there'd've\": 'there would have', \"here's\": 'here is', \"they'd've\": 'they would have', \"they'll've\": 'they will have', \"to've\": 'to have', \"we'd've\": 'we would have', \"we'll've\": 'we will have', \"what'll've\": 'what will have', \"when's\": 'when is', \"when've\": 'when have', \"where'd\": 'where did', \"where've\": 'where have', \"who'll've\": 'who will have', \"why's\": 'why is', \"why've\": 'why have', \"will've\": 'will have', \"won't've\": 'will not have', \"would've\": 'would have', \"wouldn't've\": 'would not have', \"y'all\": 'you all', \"y'all'd\": 'you all would', \"y'all'd've\": 'you all would have', \"y'all're\": 'you all are', \"y'all've\": 'you all have', \"you'd've\": 'you would have', \"you'll've\": 'you will have'}\n",
    "  x= word_tokenize(text)\n",
    "  for i in range(len(x)):\n",
    "    if x[i] in EXTENDED_FORMS:\n",
    "      x[i] = EXTENDED_FORMS[x[i]]\n",
    "    if x[i] in stopwords.words('english'):\n",
    "      x[i]=''\n",
    "  x=remove_punc(x)\n",
    "  x=remove_art_connector(x)\n",
    "  return \" \".join(x)"
   ]
  },
  {
   "cell_type": "code",
   "execution_count": 77,
   "metadata": {},
   "outputs": [],
   "source": [
    "def stemming(text):\n",
    "    x = text.split(\" \")\n",
    "    ps = PorterStemmer()\n",
    "    return \" \".join([ps.stem(i) for i in x])"
   ]
  },
  {
   "cell_type": "code",
   "execution_count": 78,
   "metadata": {},
   "outputs": [],
   "source": [
    "#Filter the parsed text, by, converting them into lowercase, removing any tags, extra spaces.\n",
    "\n",
    "def filter(item):\n",
    "  if type(item)==str:\n",
    "    item=item.lower()\n",
    "    item=re.sub('[#@]\\w+\\s*',\"\",item)\n",
    "    item=re.sub(r'\\\\N','',item)\n",
    "    item=remove_emoji(item)\n",
    "    item=stopword(item)\n",
    "    item=stemming(item)\n",
    "  return item"
   ]
  },
  {
   "cell_type": "markdown",
   "metadata": {},
   "source": [
    "### Operator Functions"
   ]
  },
  {
   "cell_type": "code",
   "execution_count": 79,
   "metadata": {},
   "outputs": [],
   "source": [
    "#Merging Code, for two documents (basically merging two sorted list)\n",
    "# OR function\n",
    "\n",
    "def func_OR(document_word1, document_word2):    \n",
    "    n,m = len(document_word1), len(document_word2)\n",
    "    i,j = 0,0\n",
    "    comparision = 0\n",
    "    merged_documents = []\n",
    "\n",
    "    while i<n and j<m:\n",
    "        comparision+=1\n",
    "        if document_word1[i] < document_word2[j]:\n",
    "            merged_documents.append(document_word1[i])\n",
    "            i+=1\n",
    "        elif document_word1[i]> document_word2[j]:\n",
    "            merged_documents.append(document_word2[j])\n",
    "            j+=1\n",
    "        else:\n",
    "            merged_documents.append(document_word1[i])\n",
    "            i+=1\n",
    "            j+=1\n",
    "    \n",
    "    while i<n:\n",
    "        merged_documents.append(document_word1[i])\n",
    "        i+=1\n",
    "    \n",
    "    while j<m:\n",
    "        merged_documents.append(document_word2[j])\n",
    "        j+=1\n",
    "\n",
    "    return merged_documents, comparision"
   ]
  },
  {
   "cell_type": "code",
   "execution_count": 80,
   "metadata": {},
   "outputs": [],
   "source": [
    "#And functions, comparing and merging if the words are present in both the documents or not. (check if a number present in a sorted list)\n",
    "\n",
    "def func_AND(document_word1, document_word2):\n",
    "    n,m = len(document_word1), len(document_word2)\n",
    "    i,j = 0,0\n",
    "    comparision = 0\n",
    "    merged_documents = []\n",
    "\n",
    "    while i<n and j<m:\n",
    "        comparision+=1\n",
    "        if document_word1[i] == document_word2[j]:\n",
    "            merged_documents.append(document_word1[i])\n",
    "            i+=1\n",
    "            j+=1\n",
    "        elif document_word1[i] < document_word2[j]:\n",
    "            i+=1\n",
    "        else:\n",
    "            j+=1\n",
    "\n",
    "    return merged_documents, comparision"
   ]
  },
  {
   "cell_type": "code",
   "execution_count": 81,
   "metadata": {},
   "outputs": [],
   "source": [
    "#Function to calculation ornot, first all documents with no, word2, present in it, and then performs the or functions.\n",
    "\n",
    "def func_ORNOT(document_word1, document_word2):\n",
    "    \n",
    "    i,j = 0,document_word2[0]\n",
    "    n,m = len(document_word1), len(document_word2)\n",
    "    comparision = 0\n",
    "\n",
    "    negated_document_word2 = [x for x in range(j)]\n",
    "\n",
    "    while j < document_word2[-1]:\n",
    "        comparision += 1\n",
    "        \n",
    "        if i<m and document_word2[i]==j:\n",
    "            i+=1\n",
    "        else:\n",
    "            negated_document_word2.append(j)\n",
    "        j+=1 \n",
    "\n",
    "    negated_document_word2.extend([x for x in range(document_word2[-1]+1,len(doc_id))])\n",
    "    \n",
    "    i,j = 0,0\n",
    "    merged_documents = []\n",
    "    comparision = 0\n",
    "    n,m = len(document_word1), len(negated_document_word2)\n",
    "    while i<n and j<m:\n",
    "        comparision+=1\n",
    "        if document_word1[i] < negated_document_word2[j]:\n",
    "            merged_documents.append(document_word1[i])\n",
    "            i+=1\n",
    "        elif document_word1[i]> negated_document_word2[j]:\n",
    "            merged_documents.append(negated_document_word2[j])\n",
    "            j+=1\n",
    "        else:\n",
    "            merged_documents.append(document_word1[i])\n",
    "            i+=1\n",
    "            j+=1\n",
    "    \n",
    "    while i<n:\n",
    "        merged_documents.append(document_word1[i])\n",
    "        i+=1\n",
    "    \n",
    "    while j<m:\n",
    "        merged_documents.append(negated_document_word2[j])\n",
    "        j+=1\n",
    "\n",
    "    return merged_documents, comparision"
   ]
  },
  {
   "cell_type": "code",
   "execution_count": 82,
   "metadata": {},
   "outputs": [],
   "source": [
    "#Function to calculate and not, where a word should be in document1 but not in document 2.\n",
    "\n",
    "def func_ANDNOT(document_word1, document_word2):\n",
    "    \n",
    "    n,m = len(document_word1), len(document_word2)\n",
    "    i,j = 0,0\n",
    "    comparision = 0\n",
    "    merged_documents = []\n",
    "\n",
    "    while i<n and j<m:\n",
    "        comparision+=1\n",
    "        if document_word1[i]<document_word2[j]:\n",
    "            merged_documents.append(document_word1[i])\n",
    "            i+=1\n",
    "        elif document_word1[i]== document_word2[j]:\n",
    "            i+=1\n",
    "            j+=1\n",
    "        else:\n",
    "            j+=1\n",
    "            \n",
    "    while i < n:\n",
    "        merged_documents.append(document_word1[i])\n",
    "        i+=1\n",
    "\n",
    "    return merged_documents, comparision"
   ]
  },
  {
   "cell_type": "markdown",
   "metadata": {},
   "source": [
    "### Processing"
   ]
  },
  {
   "cell_type": "code",
   "execution_count": 83,
   "metadata": {},
   "outputs": [],
   "source": [
    "#processing the queries.\n",
    "\n",
    "def processing(words, operations):\n",
    "    if len(words)==0 or len(operators)==0:\n",
    "        if len(words)!=0 and words[0] in posting:\n",
    "            return posting[words[0]], 0\n",
    "        else:\n",
    "            return [], 0\n",
    "\n",
    "    words_doc_mapping = []\n",
    "\n",
    "    for word in words:\n",
    "        if word in posting:\n",
    "            words_doc_mapping.append(posting[word])\n",
    "        else:\n",
    "            words_doc_mapping.append([])\n",
    "    \n",
    "    documents = words_doc_mapping[0]\n",
    "    total_comparison = 0\n",
    "\n",
    "    for i,operation in enumerate(operations):\n",
    "        documents, comparisons = operation(documents,words_doc_mapping[i+1])\n",
    "        total_comparison+=comparisons\n",
    "\n",
    "    return documents, total_comparison"
   ]
  },
  {
   "cell_type": "markdown",
   "metadata": {},
   "source": [
    "### Quering Inputs"
   ]
  },
  {
   "cell_type": "code",
   "execution_count": 84,
   "metadata": {},
   "outputs": [
    {
     "name": "stdout",
     "output_type": "stream",
     "text": [
      "Sentence Words to be processed after filtering:  ['lion', 'stood', 'thought', 'moment']\n",
      "Operations to be done on the Sentence:  ['or not', 'or', 'and']\n",
      "Number of documents retrieved:  152\n",
      "Number of comparisons made:  3218\n",
      "Document Names:\n",
      " ['a_tv_t-p.com', 'aeonint.txt', 'allusion', 'ambrose.bie', 'anim_lif.txt', 'anime.lif', 'annoy.fascist', 'art-fart.hum', 'b-2.jok', 'badday.hum', 'barney.txt', 'bbh_intv.txt', 'beauty.tm', 'beesherb.txt', 'bitnet.txt', 'butwrong.hum', 'bw-phwan.hat', 'bw.txt', 'caesardr.sal', 'candy.txt', 'cartoon.law', 'cartoon.laws', 'cartoon_.txt', 'chickenheadbbs.txt', 'clancy.txt', 'classicm.hum', 'cmu.share', 'collected_quotes.txt', 'commutin.jok', 'conan.txt', 'consp.txt', 'cookie.1', 'coyote.txt', 'cybrtrsh.txt', 'dead3.txt', 'dead4.txt', 'dead5.txt', 'dingding.hum', 'doggun.sto', 'drinks.gui', 'econridl.fun', 'english.txt', 'episimp2.txt', 'exam.50', 'facedeth.txt', 'fascist.txt', 'female.jok', 'filmgoof.txt', 'flux_fix.txt', 'fuckyou2.txt', 'gas.txt', 'gd_ql.txt', 'gown.txt', 'grail.txt', 'hackingcracking.txt', 'hackmorality.txt', 'humor9.txt', 'idr2.txt', 'incarhel.hum', 'initials.rid', 'insult.lst', 'is_story.txt', 'jayjay.txt', 'kaboom.hum', 'lbinter.hum', 'let.go', 'letgosh.txt', 'lif&love.hum', 'lifeimag.hum', 'lifeonledge.txt', 'luvstory.txt', 'mailfrag.hum', 'manners.txt', 'mcd.txt', 'meinkamp.hum', 'mindvox', 'mlverb.hum', 'montpyth.hum', 'moore.txt', 'moose.txt', 'msorrow', 'mundane.v2', 'murphy_l.txt', 'murphys.txt', 'myheart.hum', 'nigel.10', 'nigel.2', 'nigel.3', 'nigel10.txt', 'nihgel_8.9', 'nukewar.txt', 'oldeng.hum', 'oliver.txt', 'oliver02.txt', 'onetoone.hum', 'oxymoron.jok', 'passage.hum', 'passenge.sim', 'peatchp.hum', 'pepper.txt', 'petshop', 'phorse.hum', 'pizzawho.hum', 'policpig.hum', 'popmusi.hum', 'prac1.jok', 'prac2.jok', 'prac3.jok', 'prac4.jok', 'pracjoke.txt', 'practica.txt', 'pro-fact.hum', 'progrs.gph', 'psych_pr.quo', 'psycho.txt', 'pukeprom.jok', 'quack26.txt', 'quest.hum', 'quotes.txt', 'radiolaf.hum', 'reeves.txt', 'rns_ency.txt', 'scratchy.txt', 'sfmovie.txt', 'shuttleb.hum', 'smurfkil.hum', 'snapple.rum', 'socecon.hum', 'solders.hum', 'soleleer.hum', 'stone.hum', 'strine.txt', 'stuf11.txt', 'suicide2.txt', 'sw_err.txt', \"terrmcd'.hum\", 'tfepisod.hum', 'timetr.hum', 'tnd.1', 'top10.txt', 'top10st2.txt', 'tpquotes.txt', 'ukunderg.txt', 'valujet.txt', 'various.txt', 'vonthomp', 'wacky.ani', 'wedding.hum', 'whoops.hum', 'wimptest.txt', 'worldend.hum', 'xibovac.txt']\n",
      "\n"
     ]
    }
   ],
   "source": [
    "# Queries Input\n",
    "\n",
    "maps = {'OR': func_OR,'AND': func_AND,'OR NOT': func_ORNOT,'AND NOT': func_ANDNOT}\n",
    "\n",
    "N = int(input(\"Enter number of queries: \"))\n",
    "\n",
    "for n in range(N):\n",
    "    sentence = input(\"Enter sentence: \").strip()\n",
    "    sentence_words = filter(sentence).split()\n",
    "    print(\"Sentence Words to be processed after filtering: \",sentence_words)\n",
    "    operators = list(map(str,input(\"Enter operators; comma seperated: \").split(',')))\n",
    "    operation = []\n",
    "\n",
    "    for operator in operators:\n",
    "        if operator.upper() in maps:\n",
    "            operation.append(maps[operator.upper()])\n",
    "\n",
    "    print(\"Operations to be done on the Sentence: \",operators)\n",
    "\n",
    "    if len(sentence_words)-len(operators) == 1:    \n",
    "        documents, total_comparisons = processing(sentence_words, operation)\n",
    "        print(\"Number of documents retrieved: \", len(documents))\n",
    "        print(\"Number of comparisons made: \", total_comparisons)\n",
    "        print(\"Document Names:\\n\",[doc_id[i] for i in documents])\n",
    "        print()\n",
    "    else:\n",
    "        print(\"Error\")"
   ]
  }
 ],
 "metadata": {
  "interpreter": {
   "hash": "f1cbb85fbb159a91b512923319bfb5d4c6de1269d10ca612a23b6e07a28361c8"
  },
  "kernelspec": {
   "display_name": "Python 3.8.12 ('base')",
   "language": "python",
   "name": "python3"
  },
  "language_info": {
   "codemirror_mode": {
    "name": "ipython",
    "version": 3
   },
   "file_extension": ".py",
   "mimetype": "text/x-python",
   "name": "python",
   "nbconvert_exporter": "python",
   "pygments_lexer": "ipython3",
   "version": "3.8.12"
  },
  "orig_nbformat": 4
 },
 "nbformat": 4,
 "nbformat_minor": 2
}
